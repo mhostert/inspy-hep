{
 "cells": [
  {
   "cell_type": "code",
   "execution_count": 81,
   "metadata": {},
   "outputs": [],
   "source": [
    "import numpy as np\n",
    "import json\n",
    "from pylatexenc.latex2text import LatexNodes2Text\n",
    "from pylatexenc.latexencode import unicode_to_latex\n",
    "from dataclasses import dataclass\n"
   ]
  },
  {
   "cell_type": "code",
   "execution_count": 82,
   "metadata": {},
   "outputs": [],
   "source": [
    "with open('example_inspire_record.json', 'r') as file:\n",
    "    data = json.load(file)"
   ]
  },
  {
   "cell_type": "code",
   "execution_count": 161,
   "metadata": {},
   "outputs": [
    {
     "data": {
      "text/plain": [
       "['Batell:2022xau']"
      ]
     },
     "execution_count": 161,
     "metadata": {},
     "output_type": "execute_result"
    }
   ],
   "source": [
    "data['hits']['hits'][0]['metadata']['texkeys']"
   ]
  },
  {
   "cell_type": "code",
   "execution_count": 319,
   "metadata": {},
   "outputs": [],
   "source": []
  },
  {
   "cell_type": "code",
   "execution_count": 321,
   "metadata": {},
   "outputs": [
    {
     "data": {
      "text/plain": [
       "'Arg\\\\\"uelles, Foppiani, Hostert, Phys.Rev.D 105 (2022) 9 095006, 2022, arXiv:2109.03831 [hep-ph].'"
      ]
     },
     "execution_count": 321,
     "metadata": {},
     "output_type": "execute_result"
    }
   ],
   "source": [
    "rec = InspireRecord(data['hits']['hits'][14]['metadata'])\n",
    "unicode_to_latex(rec)"
   ]
  },
  {
   "cell_type": "code",
   "execution_count": 300,
   "metadata": {},
   "outputs": [
    {
     "data": {
      "text/plain": [
       "['Arg\\\\\"uelles', 'Foppiani', 'Hostert']"
      ]
     },
     "execution_count": 300,
     "metadata": {},
     "output_type": "execute_result"
    }
   ],
   "source": [
    "rec.authors_"
   ]
  },
  {
   "cell_type": "code",
   "execution_count": 262,
   "metadata": {},
   "outputs": [
    {
     "name": "stdout",
     "output_type": "stream",
     "text": [
      "dict_keys(['report_numbers', 'authors', 'publication_info', 'documents', 'citation_count', 'citation_count_without_self_citations', 'citeable', '$schema', 'keywords', 'references', 'number_of_pages', 'legacy_creation_date', 'preprint_date', 'author_count', 'public_notes', 'earliest_date', 'external_system_identifiers', 'facet_author_name', 'core', 'license', 'journal_title_variants', 'arxiv_eprints', 'referenced_authors_bais', 'figures', 'legacy_version', 'inspire_categories', 'urls', 'first_author', 'control_number', 'dois', 'document_type', 'texkeys', 'abstracts', 'primary_arxiv_category', 'titles', 'imprints', 'curated'])\n"
     ]
    }
   ],
   "source": [
    "for record in data['hits']['hits']:\n",
    "    if record['metadata']['document_type'][0] == 'proceedings':\n",
    "        print(record['metadata'].keys())\n",
    "    "
   ]
  },
  {
   "cell_type": "code",
   "execution_count": 226,
   "metadata": {},
   "outputs": [
    {
     "name": "stdout",
     "output_type": "stream",
     "text": [
      "conference paper \n",
      "\n",
      "authors <class 'list'>\n",
      "publication_info <class 'list'>\n",
      "documents <class 'list'>\n",
      "citation_count <class 'int'>\n",
      "citation_count_without_self_citations <class 'int'>\n",
      "citeable <class 'bool'>\n",
      "$schema <class 'str'>\n",
      "keywords <class 'list'>\n",
      "references <class 'list'>\n",
      "number_of_pages <class 'int'>\n",
      "referenced_authors_bais <class 'list'>\n",
      "legacy_version <class 'str'>\n",
      "inspire_categories <class 'list'>\n",
      "legacy_creation_date <class 'str'>\n",
      "author_count <class 'int'>\n",
      "urls <class 'list'>\n",
      "first_author <class 'dict'>\n",
      "control_number <class 'int'>\n",
      "dois <class 'list'>\n",
      "earliest_date <class 'str'>\n",
      "document_type <class 'list'>\n",
      "texkeys <class 'list'>\n",
      "abstracts <class 'list'>\n",
      "titles <class 'list'>\n",
      "facet_author_name <class 'list'>\n",
      "core <class 'bool'>\n",
      "license <class 'list'>\n",
      "imprints <class 'list'>\n",
      "curated <class 'bool'>\n",
      "journal_title_variants <class 'list'>\n"
     ]
    }
   ],
   "source": [
    "i=40\n",
    "print(data['hits']['hits'][i]['metadata']['document_type'][0],'\\n')\n",
    "\n",
    "for key in data['hits']['hits'][i]['metadata'].keys():\n",
    "    print(key, type(data['hits']['hits'][i]['metadata'][key]))\n",
    "        \n",
    "\n"
   ]
  },
  {
   "cell_type": "code",
   "execution_count": 75,
   "metadata": {},
   "outputs": [
    {
     "name": "stdout",
     "output_type": "stream",
     "text": [
      "C. A. Argüelles, I. Esteban, M. Hostert, Kevin J. Kelly, J. Kopp, P. A. N. Machado, I. Martinez-Soler, Y. F. Perez-Gonzalez\n",
      "Argüelles, C.A. and Esteban, I. and Hostert, M. and Kelly, Kevin J. and Kopp, J. and Machado, P.A.N. and Martinez-Soler, I. and Perez-Gonzalez, Y.F.\n"
     ]
    }
   ],
   "source": []
  }
 ],
 "metadata": {
  "kernelspec": {
   "display_name": "Python 3.9.12 ('base')",
   "language": "python",
   "name": "python3"
  },
  "language_info": {
   "codemirror_mode": {
    "name": "ipython",
    "version": 3
   },
   "file_extension": ".py",
   "mimetype": "text/x-python",
   "name": "python",
   "nbconvert_exporter": "python",
   "pygments_lexer": "ipython3",
   "version": "3.9.12"
  },
  "orig_nbformat": 4,
  "vscode": {
   "interpreter": {
    "hash": "3067ead486e059ec00ffe7555bdb889e6e264a24dc711bf108106cc7baee8d5d"
   }
  }
 },
 "nbformat": 4,
 "nbformat_minor": 2
}
