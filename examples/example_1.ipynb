{
 "cells": [
  {
   "cell_type": "code",
   "execution_count": 1,
   "metadata": {},
   "outputs": [],
   "source": [
    "%load_ext autoreload\n",
    "%autoreload 2 "
   ]
  },
  {
   "cell_type": "code",
   "execution_count": 503,
   "metadata": {},
   "outputs": [],
   "source": [
    "import inspyhep\n",
    "from inspyhep.inspires_tools import InspiresRecord\n",
    "from inspyhep.author import Author\n",
    "\n",
    "import matplotlib.pyplot as plt\n",
    "import numpy as np"
   ]
  },
  {
   "cell_type": "markdown",
   "metadata": {},
   "source": [
    "## Let's start by looking at individual records"
   ]
  },
  {
   "cell_type": "code",
   "execution_count": 555,
   "metadata": {},
   "outputs": [],
   "source": [
    "SM_paper = InspiresRecord('Weinberg:1967tq')"
   ]
  },
  {
   "cell_type": "code",
   "execution_count": 556,
   "metadata": {},
   "outputs": [
    {
     "name": "stdout",
     "output_type": "stream",
     "text": [
      "Weinberg, Phys.Rev.Lett. 19 (1967), 1967.\n",
      "citation_count: 13659\n",
      "authorlist_bibtex_style: Weinberg, Steven\n",
      "date: 1967-11-01\n",
      "arxiv_number: None\n",
      "published: True\n",
      "pub_title: Phys.Rev.Lett.\n",
      "title: A Model of Leptons\n"
     ]
    }
   ],
   "source": [
    "print(SM_paper)\n",
    "\n",
    "print(\"citation_count:\", SM_paper.citation_count)\n",
    "print(\"authorlist_bibtex_style:\", SM_paper.authorlist_bibtex_style)\n",
    "print(\"date:\", SM_paper.date)\n",
    "print(\"arxiv_number:\", SM_paper.arxiv_number)\n",
    "print(\"published:\", SM_paper.published)\n",
    "print(\"pub_title:\", SM_paper.pub_title)\n",
    "print(\"title:\", SM_paper.title)"
   ]
  },
  {
   "cell_type": "markdown",
   "metadata": {},
   "source": [
    "## Comprehensive author information"
   ]
  },
  {
   "cell_type": "code",
   "execution_count": 557,
   "metadata": {},
   "outputs": [],
   "source": [
    "SW = Author('Steven.Weinberg.1')"
   ]
  },
  {
   "cell_type": "code",
   "execution_count": 559,
   "metadata": {},
   "outputs": [
    {
     "data": {
      "text/plain": [
       "90092"
      ]
     },
     "execution_count": 559,
     "metadata": {},
     "output_type": "execute_result"
    }
   ],
   "source": [
    "# Total number of citations\n",
    "SW.citations"
   ]
  },
  {
   "cell_type": "markdown",
   "metadata": {},
   "source": [
    "## Let's plot some citation metrics to compare with Inspires"
   ]
  },
  {
   "cell_type": "code",
   "execution_count": 561,
   "metadata": {},
   "outputs": [],
   "source": [
    "years = range(1959, 2021)\n",
    "citations = []\n",
    "citations_noself = []\n",
    "self_citations = []\n",
    "kwargs = {'max_nauthors': 10}\n",
    "for y in years:\n",
    "    citations.append(SW.get_total_number_of_citations(SW.inspires_records, in_year = y, self_cite=True, **kwargs))\n",
    "    citations_noself.append(SW.get_total_number_of_citations(SW.inspires_records, in_year = y, self_cite=False, **kwargs))\n",
    "    self_citations.append(citations[-1] - citations_noself[-1])"
   ]
  },
  {
   "cell_type": "code",
   "execution_count": 562,
   "metadata": {},
   "outputs": [
    {
     "data": {
      "text/plain": [
       "Text(0, 0.5, 'citations')"
      ]
     },
     "execution_count": 562,
     "metadata": {},
     "output_type": "execute_result"
    },
    {
     "data": {
      "image/png": "[encoded data removed]",
      "text/plain": [
       "<Figure size 432x288 with 1 Axes>"
      ]
     },
     "metadata": {
      "needs_background": "light"
     },
     "output_type": "display_data"
    }
   ],
   "source": [
    "plot_kwargs = {'width': 0.95}\n",
    "plt.bar(years, citations, fc='orange', ec='black', label=r'all citations', **plot_kwargs)\n",
    "plt.bar(years, citations_noself, fc='dodgerblue', ec='black', label=r'citation (wo/ self cite)', **plot_kwargs)\n",
    "plt.bar(years, self_citations, fc='None', ec='black', hatch='///', label=r'self citations', **plot_kwargs)\n",
    "plt.legend(loc='upper right',frameon=False)\n",
    "plt.xlabel(r'year')\n",
    "plt.yscale('log')\n",
    "plt.ylabel(r'citations')"
   ]
  },
  {
   "cell_type": "markdown",
   "metadata": {},
   "source": [
    "## Now some metrics on the number of authors "
   ]
  },
  {
   "cell_type": "code",
   "execution_count": 563,
   "metadata": {},
   "outputs": [],
   "source": [
    "nauthors = []\n",
    "nauthors_wellcited = []\n",
    "for record in SW.inspires_records.values():\n",
    "    nauthors.append(record.author_count)\n",
    "    if record.citation_count > 10:\n",
    "        nauthors_wellcited.append(record.author_count)\n"
   ]
  },
  {
   "cell_type": "code",
   "execution_count": 564,
   "metadata": {},
   "outputs": [
    {
     "data": {
      "text/plain": [
       "Text(0, 0.5, 'papers')"
      ]
     },
     "execution_count": 564,
     "metadata": {},
     "output_type": "execute_result"
    },
    {
     "data": {
      "image/png": "[encoded data removed]",
      "text/plain": [
       "<Figure size 432x288 with 1 Axes>"
      ]
     },
     "metadata": {
      "needs_background": "light"
     },
     "output_type": "display_data"
    }
   ],
   "source": [
    "bins = list(range(1,10))\n",
    "plot_kwargs = {'width': 0.95}\n",
    "h = np.histogram(nauthors, bins = bins)\n",
    "h_wc = np.histogram(nauthors_wellcited, bins = bins)\n",
    "plt.bar(h[1][:-1], h[0], fc='orange', ec='black', label=r'all paper', **plot_kwargs)\n",
    "plt.bar(h_wc[1][:-1], h_wc[0], fc='None', ec='black', hatch='///', label=r'well cited (cite > 10)', **plot_kwargs)\n",
    "plt.legend(loc='upper right',frameon=False)\n",
    "plt.xlabel(r'number of authors')\n",
    "plt.xticks(bins)\n",
    "plt.xlim(0.5,9.5)\n",
    "plt.ylabel(r'papers')"
   ]
  },
  {
   "cell_type": "markdown",
   "metadata": {},
   "source": [
    "## We can get a nice latex friendly list of your records"
   ]
  },
  {
   "cell_type": "code",
   "execution_count": 565,
   "metadata": {},
   "outputs": [
    {
     "name": "stdout",
     "output_type": "stream",
     "text": [
      "\\textbf{Peer-reviewed publications}\n",
      "\\begin{enumerate}\n",
      "\\item On the Development of Effective Field Theory, Weinberg, Eur.Phys.J.H 46 (2021) 1 6, 2021, arXiv:2101.04241 [hep-th], [citations: 10].\n",
      "\\item Massless particles in higher dimensions, Weinberg, Phys.Rev.D 102 (2020) 9 095022, 2020, arXiv:2010.05823 [hep-th], [citations: 10].\n",
      "\\item Models of Lepton and Quark Masses, Weinberg, Phys.Rev.D 101 (2020) 3 035020, 2020, arXiv:2001.06582 [hep-th], [citations: \\textbf{15}].\n",
      "\\item Absorption of Gravitational Waves from Distant Sources, Flauger, Weinberg, Phys.Rev.D 99 (2019) 12 123030, 2019, arXiv:1906.04853 [hep-th], [citations: 7].\n",
      "\\item Soft Bremsstrahlung, Weinberg, Phys.Rev.D 99 (2019) 7 076018, 2019, arXiv:1903.11168 [astro-ph.GA], [citations: 4].\n",
      "\\item Essay: Half a Century of the Standard Model, Weinberg, Phys.Rev.Lett. 121 (2018) 22 220001, 2018, [citations: \\textbf{14}].\n",
      "\\item Gravitational Waves in Cold Dark Matter, Flauger, Weinberg, Phys.Rev.D 97 (2018) 12 123506, 2017, arXiv:1801.00386 [astro-ph.CO], [citations: \\textbf{38}].\n",
      "\\item Lindblad Decoherence in Atomic Clocks, Weinberg, Phys.Rev.A 94 (2016) 4 042117, 2016, arXiv:1610.02537 [quant-ph], [citations: \\textbf{11}].\n",
      "\\item Nambu, at the beginning, Weinberg, PTEP 2016 (2016) 7 07B002, 2016.\n",
      "\\item What Happens in a Measurement?, Weinberg, Phys.Rev.A 93 (2016) 032124, 2016, arXiv:1603.06008 [quant-ph], [citations: \\textbf{14}].\n",
      "\\item Effective field theory, past and future, Weinberg, Int.J.Mod.Phys.A 31 (2016) 06 1630007, 2016, [citations: \\textbf{20}].\n",
      "\\item Quantum Mechanics Without State Vectors, Weinberg, Phys.Rev.A 90 (2014) 4 042102, 2014, arXiv:1405.3483 [quant-ph], [citations: \\textbf{16}].\n",
      "\\item Tom Kibble: Breaking ground and breaking symmetries, Weinberg, Int.J.Mod.Phys.A 29 (2014) 1430004, 2014.\n",
      "\\item Goldstone Bosons as Fractional Cosmic Neutrinos, Weinberg, Phys.Rev.Lett. 110 (2013) 24 241301, 2013, arXiv:1305.1971 [astro-ph.CO], [citations: \\textbf{182}].\n",
      "\\item Tetraquark Mesons in Large $N$ Quantum Chromodynamics, Weinberg, Phys.Rev.Lett. 110 (2013) 261601, 2013, arXiv:1303.0342 [hep-ph], [citations: \\textbf{134}].\n",
      "\\item Particle physics, from Rutherford to the LHC, Weinberg, Int.J.Mod.Phys.A 28 (2013) 1330055, 2013.\n",
      "\\item Minimal fields of canonical dimensionality are free, Weinberg, Phys.Rev.D 86 (2012) 105015, 2012, arXiv:1210.3864 [hep-th], [citations: \\textbf{26}].\n",
      "\\item Six-dimensional Methods for Four-dimensional Conformal Field Theories II: Irreducible Fields, Weinberg, Phys.Rev.D 86 (2012) 085013, 2012, arXiv:1209.4659 [hep-th], [citations: \\textbf{27}].\n",
      "\\item Collapse of the State Vector, Weinberg, Phys.Rev.A 85 (2012) 062116, 2011, arXiv:1109.6462 [quant-ph], [citations: \\textbf{57}].\n",
      "\\item Particle physics, from Rutherford to the LHC, Weinberg, Phys.Today 64N8 (2011), 2011, [citations: 1].\n",
      "\\item Ultraviolet Divergences in Cosmological Correlations, Weinberg, Phys.Rev.D 83 (2011) 063508, 2010, arXiv:1011.1630 [hep-th], [citations: \\textbf{31}].\n",
      "\\item Pions in Large-$N$ Quantum Chromodynamics, Weinberg, Phys.Rev.Lett. 105 (2010) 261601, 2010, arXiv:1009.1537 [hep-ph], [citations: \\textbf{41}].\n",
      "\\item Six-dimensional Methods for Four-dimensional Conformal Field Theories, Weinberg, Phys.Rev.D 82 (2010) 045031, 2010, arXiv:1006.3480 [hep-th], [citations: \\textbf{190}].\n",
      "\\item Asymptotically Safe Inflation, Weinberg, Phys.Rev.D 81 (2010) 083535, 2009, arXiv:0911.3165 [hep-th], [citations: \\textbf{142}].\n",
      "\\item Effective Field Theory, Past and Future, Weinberg, PoS CD09 (2009) 001, 2009, arXiv:0908.1964 [hep-th], [citations: \\textbf{153}].\n",
      "\\item V-A was the key, Weinberg, J.Phys.Conf.Ser. 196 (2009) 012002, 2009, [citations: \\textbf{26}].\n",
      "\\item Non-Gaussian Correlations Outside the Horizon II: The General Case, Weinberg, Phys.Rev.D 79 (2009) 043504, 2008, arXiv:0810.2831 [hep-ph], [citations: \\textbf{36}].\n",
      "\\item Non-Gaussian Correlations Outside the Horizon, Weinberg, Phys.Rev.D 78 (2008) 123521, 2008, arXiv:0808.2909 [hep-th], [citations: \\textbf{47}].\n",
      "\\item A Tree Theorem for Inflation, Weinberg, Phys.Rev.D 78 (2008) 063534, 2008, arXiv:0805.3781 [hep-th], [citations: \\textbf{28}].\n",
      "\\item Effective Field Theory for Inflation, Weinberg, Phys.Rev.D 77 (2008) 123541, 2008, arXiv:0804.4291 [hep-th], [citations: \\textbf{425}].\n",
      "\\item From BCS to the LHC, Weinberg, CERN Cour. 48N1 (2008), 2008.\n",
      "\\item From BCS to the LHC, Weinberg, Int.J.Mod.Phys.A 23 (2008), 2008, [citations: 6].\n",
      "\\item Tensor Microwave Background Fluctuations for Large Multipole Order, Flauger, Weinberg, Phys.Rev.D 75 (2007) 123505, 2007, arXiv:astro-ph/0703179 [astro-ph], [citations: \\textbf{26}].\n",
      "\\item A No-Truncation Approach to Cosmic Microwave Background Anisotropies, Weinberg, Phys.Rev.D 74 (2006) 063517, 2006, arXiv:astro-ph/0607076 [astro-ph], [citations: \\textbf{13}].\n",
      "\\item Quantum contributions to cosmological correlations. II. Can these corrections become large?, Weinberg, Phys.Rev.D 74 (2006) 023508, 2006, arXiv:hep-th/0605244 [hep-th], [citations: \\textbf{249}].\n",
      "\\item Quantum contributions to cosmological correlations, Weinberg, Phys.Rev.D 72 (2005) 043514, 2005, arXiv:hep-th/0506236 [hep-th], [citations: \\textbf{740}].\n",
      "\\item Einstein's mistakes, Weinberg, Phys.Today 58N11 (2005), 2005, [citations: 3].\n",
      "\\item Must cosmological perturbations remain non-adiabatic after multi-field inflation?, Weinberg, Phys.Rev.D 70 (2004) 083522, 2004, arXiv:astro-ph/0405397 [astro-ph], [citations: \\textbf{80}].\n",
      "\\item The Making of the standard model, Weinberg, Eur.Phys.J.C 34 (2004), 2004, arXiv:hep-ph/0401010 [hep-ph], [citations: \\textbf{125}].\n",
      "\\item Can non-adiabatic perturbations arise after single-field inflation?, Weinberg, Phys.Rev.D 70 (2004) 043541, 2004, arXiv:astro-ph/0401313 [astro-ph], [citations: \\textbf{47}].\n",
      "\\item Damping of tensor modes in cosmology, Weinberg, Phys.Rev.D 69 (2004) 023503, 2003, arXiv:astro-ph/0306304 [astro-ph], [citations: \\textbf{224}].\n",
      "\\item Adiabatic modes in cosmology, Weinberg, Phys.Rev.D 67 (2003) 123504, 2003, arXiv:astro-ph/0302326 [astro-ph], [citations: \\textbf{274}].\n",
      "\\item Cosmological fluctuations of short wavelength, Weinberg, Astrophys.J. 581 (2002), 2002, arXiv:astro-ph/0207375 [astro-ph], [citations: \\textbf{39}].\n",
      "\\item Conference summary: 20th Texas symposium on relativistic astrophysics, Weinberg, AIP Conf.Proc. 586 (2001) 1 893, 2001, arXiv:astro-ph/0104482 [astro-ph], [citations: \\textbf{14}].\n",
      "\\item Fluctuations in the cosmic microwave background. 1. Form-factors and their calculation in synchronous gauge, Weinberg, Phys.Rev.D 64 (2001) 123511, 2001, arXiv:astro-ph/0103279 [astro-ph], [citations: \\textbf{23}].\n",
      "\\item Fluctuations in the cosmic microwave background. 2. C(l) at large and small l, Weinberg, Phys.Rev.D 64 (2001) 123512, 2001, arXiv:astro-ph/0103281 [astro-ph], [citations: \\textbf{22}].\n",
      "\\item A Priori probability distribution of the cosmological constant, Weinberg, Phys.Rev.D 61 (2000) 103505, 2000, arXiv:astro-ph/0002387 [astro-ph], [citations: \\textbf{102}].\n",
      "\\item One theory for everything?, Weinberg, Spektrum Wiss.Dossier 2003N1 (2003), 2000.\n",
      "\\item Curvature dependence of peaks in the cosmic microwave background distribution, Weinberg, Phys.Rev.D 62 (2000) 127302, 2000, arXiv:astro-ph/0006276 [astro-ph], [citations: \\textbf{31}].\n",
      "\\item A unified physics by 2050?, Weinberg, Sci.Am. 281N6 (1999), 1999, [citations: 2].\n",
      "\\item Nonrenormalization theorems in nonrenormalizable theories, Weinberg, Phys.Rev.Lett. 80 (1998), 1998, arXiv:hep-th/9803099 [hep-th], [citations: \\textbf{50}].\n",
      "\\item Effective field theories in the large N limit, Weinberg, Phys.Rev.D 56 (1997), 1997, arXiv:hep-th/9706042 [hep-th], [citations: \\textbf{44}].\n",
      "\\item Likely values of the cosmological constant, Martel, Shapiro, Weinberg, Astrophys.J. 492 (1998) 29, 1997, arXiv:astro-ph/9701099 [astro-ph], [citations: \\textbf{260}].\n",
      "\\item What is an elementary particle?, Weinberg, SLAC Beam Line 27N1 (1999), 1997, [citations: 2].\n",
      "\\item The first elementary particle, Weinberg, Nature 386 (1997), 1997, [citations: 2].\n",
      "\\item Electroweak Reminiscences, Weinberg, NATO Sci.Ser.B 352 (1996), 1996.\n",
      "\\item Are nonrenormalizable gauge theories renormalizable?, Gomis, Weinberg, Nucl.Phys.B 469 (1996), 1995, arXiv:hep-th/9510087 [hep-th], [citations: \\textbf{170}].\n",
      "\\item General effective actions, D'Hoker, Weinberg, Phys.Rev.D 50 (1994), 1994, arXiv:hep-ph/9409402 [hep-ph], [citations: \\textbf{85}].\n",
      "\\item Effective action and renormalization group flow of anisotropic superconductors, Weinberg, Nucl.Phys.B 413 (1994), 1993, arXiv:cond-mat/9306055 [cond-mat], [citations: \\textbf{34}].\n",
      "\\item Flavor changing scalar interactions, Hall, Weinberg, Phys.Rev.D 48 (1993), 1993, arXiv:hep-ph/9303241 [hep-ph], [citations: \\textbf{282}].\n",
      "\\item Unbreaking symmetries, Weinberg, Conf.Proc.C 930308 (1993), 1993, [citations: 6].\n",
      "\\item Three body interactions among nucleons and pions, Weinberg, Phys.Lett.B 295 (1992), 1992, arXiv:hep-ph/9209257 [hep-ph], [citations: \\textbf{531}].\n",
      "\\item Conference summary, Weinberg, AIP Conf.Proc. 272 (2008), 1992, arXiv:hep-ph/9211298 [hep-ph], [citations: 10].\n",
      "\\item The Axial vector coupling of the quark, Weinberg, Phys.Rev.Lett. 67 (1991), 1991, [citations: \\textbf{86}].\n",
      "\\item Effective chiral Lagrangians for nucleon - pion interactions and nuclear forces, Weinberg, Nucl.Phys.B 363 (1991), 1991, [citations: \\textbf{1397}].\n",
      "\\item Nuclear forces from chiral Lagrangians, Weinberg, Phys.Lett.B 251 (1990), 1990, [citations: \\textbf{1466}].\n",
      "\\item Why do quarks behave like bare Dirac particles?, Weinberg, Phys.Rev.Lett. 65 (1990), 1990, [citations: \\textbf{154}].\n",
      "\\item Mended symmetries, Weinberg, Phys.Rev.Lett. 65 (1990), 1990, [citations: \\textbf{197}].\n",
      "\\item Unitarity Constraints on {CP} Nonconservation in Higgs Exchange, Weinberg, Phys.Rev.D 42 (1990), 1990, [citations: \\textbf{230}].\n",
      "\\item Tracing the mechanism of electroweak symmetry breaking, Weinberg, Mod.Phys.Lett.A 5 (1990), 1990, [citations: 2].\n",
      "\\item Larger Higgs Exchange Terms in the Neutron Electric Dipole Moment, Weinberg, Phys.Rev.Lett. 63 (1989) 2333, 1989, [citations: \\textbf{493}].\n",
      "\\item Testing Quantum Mechanics, Weinberg, Annals Phys. 194 (1989) 336, 1989, [citations: \\textbf{236}].\n",
      "\\item Precision Tests of Quantum Mechanics, Weinberg, Phys.Rev.Lett. 62 (1989) 485, 1989, [citations: \\textbf{166}].\n",
      "\\item Particle States as Realizations (Linear or Nonlinear) of Space-time Symmetries, Weinberg, Nucl.Phys.B Proc.Suppl. 6 (1989) 67, 1988, [citations: \\textbf{11}].\n",
      "\\item The Cosmological Constant Problem, Weinberg, Rev.Mod.Phys. 61 (1989), 1988, [citations: \\textbf{5405}].\n",
      "\\item Anthropic Bound on the Cosmological Constant, Weinberg, Phys.Rev.Lett. 59 (1987) 2607, 1987, [citations: \\textbf{998}].\n",
      "\\item Cancellation of One Loop Divergences in SO(8192) String Theory, Weinberg, Phys.Lett.B 187 (1987), 1987, [citations: \\textbf{71}].\n",
      "\\item Opportunities for Particle Physics: Solar Neutrinos and Superstrings, Weinberg, Int.J.Mod.Phys.A 2 (1987), 1986, [citations: \\textbf{26}].\n",
      "\\item Superconductivity for Particular Theorists, Weinberg, Prog.Theor.Phys.Suppl. 86 (1986) 43, 1986, [citations: \\textbf{122}].\n",
      "\\item PARTICLE PHYSICS: PAST AND FUTURE, Weinberg, Int.J.Mod.Phys.A 1 (1986), 1986, [citations: 2].\n",
      "\\item Coupling Constants and Vertex Functions in String Theories, Weinberg, Phys.Lett.B 156 (1985), 1985, [citations: \\textbf{154}].\n",
      "\\item ELEMENTARY DIFFERENTIAL GEOMETRY FROM A GENERALIZED STANDPOINT, Weinberg, Conf.Proc.C 841227 (1984), 1984.\n",
      "\\item Causality, Anti-particles and the Spin Statistics Connection in Higher Dimensions, Weinberg, Phys.Lett.B 143 (1984), 1984, [citations: \\textbf{25}].\n",
      "\\item Quasiriemannian Theories of Gravitation in More Than Four-dimensions, Weinberg, Phys.Lett.B 138 (1984), 1984, [citations: \\textbf{84}].\n",
      "\\item ENERGY SCALES, Weinberg, Phys.Rept. 104 (1984), 1984, [citations: 2].\n",
      "\\item UNIFICATION THROUGH HIGHER DIMENSIONS, Weinberg, Conf.Proc.C 841031 (1984), 1984.\n",
      "\\item Calculation of Gauge Couplings and Compact Circumferences from Selfconsistent Dimensional Reduction, Candelas, Weinberg, Nucl.Phys.B 237 (1984) 397, 1983, [citations: \\textbf{398}].\n",
      "\\item Charges from Extra Dimensions, Weinberg, Phys.Lett.B 125 (1983), 1983, [citations: \\textbf{139}].\n",
      "\\item Supergravity as the Messenger of Supersymmetry Breaking, Hall, Lykken, Weinberg, Phys.Rev.D 27 (1983), 1983, [citations: \\textbf{1608}].\n",
      "\\item CALCULATION OF FINE STRUCTURE CONSTANTS, Weinberg, Prog.Math.Phys. 9 (1983), 1983.\n",
      "\\item Supersymmetry at Ordinary Energies. 2. R Invariance, Goldstone Bosons, and Gauge Fermion Masses, Farrar, Weinberg, Phys.Rev.D 27 (1983) 2732, 1982, [citations: \\textbf{108}].\n",
      "\\item Upper Bound on Gauge Fermion Masses, Weinberg, Phys.Rev.Lett. 50 (1983) 387, 1982, [citations: \\textbf{239}].\n",
      "\\item Cosmological Constraints on the Scale of Supersymmetry Breaking, Weinberg, Phys.Rev.Lett. 48 (1982) 1303, 1982, [citations: \\textbf{658}].\n",
      "\\item Does Gravitation Resolve the Ambiguity Among Supersymmetry Vacua?, Weinberg, Phys.Rev.Lett. 48 (1982), 1982, [citations: \\textbf{193}].\n",
      "\\item WHERE IS SUPERSYMMETRY BROKEN?, Weinberg, Prog.Phys. 6 (1982), 1982.\n",
      "\\item Supersymmetry at Ordinary Energies. 1. Masses and Conservation Laws, Weinberg, Phys.Rev.D 26 (1982) 287, 1981, [citations: \\textbf{1158}].\n",
      "\\item THE DECAY OF THE PROTON, Weinberg, Sci.Am. 244N6 (1981), 1981, [citations: 4].\n",
      "\\item Color and Electroweak Forces as a Source of Quark and Lepton Masses, Weinberg, Phys.Lett.B 102 (1981), 1981, [citations: \\textbf{80}].\n",
      "\\item 'DECOUPLING' CONSTRAINTS ON MASSLESS COMPOSITE PARTICLES, Preskill, Weinberg, Phys.Rev.D 24 (1981) 1059, 1981, [citations: \\textbf{110}].\n",
      "\\item THE P DECAY. (IN GERMAN), Weinberg, Spektrum Wiss. 8 (1981), 1981.\n",
      "\\item Limits on Massless Particles, Weinberg, Witten, Phys.Lett.B 96 (1980), 1980, [citations: \\textbf{586}].\n",
      "\\item Varieties of Baryon and Lepton Nonconservation, Weinberg, Phys.Rev.D 22 (1980) 1694, 1980, [citations: \\textbf{357}].\n",
      "\\item Effective Gauge Theories, Weinberg, Phys.Lett.B 91 (1980), 1980, [citations: \\textbf{666}].\n",
      "\\item Mechanisms for Cosmological Baryon Production, Nanopoulos, Weinberg, Phys.Rev.D 20 (1979) 2484, 1979, [citations: \\textbf{285}].\n",
      "\\item Cosmological Production of Baryons, Weinberg, Phys.Rev.Lett. 42 (1979), 1979, [citations: \\textbf{694}].\n",
      "\\item Baryon and Lepton Nonconserving Processes, Weinberg, Phys.Rev.Lett. 43 (1979), 1979, [citations: \\textbf{2096}].\n",
      "\\item Conceptual Foundations of the Unified Theory of Weak and Electromagnetic Interactions, Weinberg, Rev.Mod.Phys. 52 (1980), 1979, [citations: \\textbf{322}].\n",
      "\\item Gauge Hierarchies, Weinberg, Phys.Lett.B 82 (1979), 1978, [citations: \\textbf{356}].\n",
      "\\item Phenomenological Lagrangians, Weinberg, Physica A 96 (1979) 1-2, 1978, [citations: \\textbf{3712}].\n",
      "\\item A New Light Boson?, Weinberg, Phys.Rev.Lett. 40 (1978), 1977, [citations: \\textbf{4660}].\n",
      "\\item The Problem of Mass, Weinberg, Trans.New York Acad.Sci. 38 (1977), 1977, [citations: \\textbf{414}].\n",
      "\\item Unified Gauge Theories, Weinberg, Experientia Suppl. 31 (1977), 1977.\n",
      "\\item Neutral Currents in Expanded Gauge Theories, Georgi, Weinberg, Phys.Rev.D 17 (1978) 275, 1977, [citations: \\textbf{214}].\n",
      "\\item Jets from Quantum Chromodynamics, Sterman, Weinberg, Phys.Rev.Lett. 39 (1977) 1436, 1977, [citations: \\textbf{1083}].\n",
      "\\item Cosmological Lower Bound on Heavy Neutrino Masses, Lee, Weinberg, Phys.Rev.Lett. 39 (1977), 1977, [citations: \\textbf{1459}].\n",
      "\\item The Decay mu --> e + gamma in Models with Neutral Heavy Leptons, Bjorken, Lane, Weinberg, Phys.Rev.D 16 (1977) 1474, 1977, [citations: \\textbf{84}].\n",
      "\\item SU(3) x U(1) Gauge Theory of the Weak and Electromagnetic Interactions, Lee, Weinberg, Phys.Rev.Lett. 38 (1977) 1237, 1977, [citations: \\textbf{202}].\n",
      "\\item A Mechanism for Nonconservation of Muon Number, Bjorken, Weinberg, Phys.Rev.Lett. 38 (1977) 622, 1977, [citations: \\textbf{226}].\n",
      "\\item Mass Differences of Charmed Hadrons, Lane, Weinberg, Phys.Rev.Lett. 37 (1976) 717, 1976, [citations: \\textbf{121}].\n",
      "\\item Natural Conservation Laws for Neutral Currents, Glashow, Weinberg, Phys.Rev.D 15 (1977) 1958, 1976, [citations: \\textbf{1987}].\n",
      "\\item Gauge Theory of CP Violation, Weinberg, Phys.Rev.Lett. 37 (1976) 657, 1976, [citations: \\textbf{1008}].\n",
      "\\item Ambiguous Solutions of Supersymmetric Theories (f1), Weinberg, Phys.Lett.B 62 (1976), 1976, [citations: \\textbf{85}].\n",
      "\\item Symmetry Breaking and Scalar Bosons, Gildener, Weinberg, Phys.Rev.D 13 (1976) 3333, 1976, [citations: \\textbf{553}].\n",
      "\\item Mass of the Higgs Boson, Weinberg, Phys.Rev.Lett. 36 (1976), 1976, [citations: \\textbf{551}].\n",
      "\\item Smearing the Quark Model, Poggio, Quinn, Weinberg, Phys.Rev.D 13 (1976) 1958, 1975, [citations: \\textbf{534}].\n",
      "\\item Implications of Dynamical Symmetry Breaking, Weinberg, Phys.Rev.D 13 (1976), 1975, [citations: \\textbf{2836}].\n",
      "\\item The U(1) Problem, Weinberg, Phys.Rev.D 11 (1975), 1975, [citations: \\textbf{700}].\n",
      "\\item Exact Spectral Function Sum Rules, Bernard, Duncan, Weinberg, Phys.Rev.D 12 (1975) 792, 1975, [citations: \\textbf{149}].\n",
      "\\item Astrophysical Implications of the New Theories of Weak Interactions, Weinberg, Annals N.Y.Acad.Sci. 262 (1975), 1975.\n",
      "\\item Gauge Symmetry Breaking, Weinberg, Conf.Proc.C 750926 (1975), 1975, [citations: 2].\n",
      "\\item Light as a Fundamental Particle, Weinberg, Phys.Today 28N6 (1975), 1975, [citations: 1].\n",
      "\\item Hierarchy of Interactions in Unified Gauge Theories, Georgi, Quinn, Weinberg, Phys.Rev.Lett. 33 (1974), 1974, [citations: \\textbf{1967}].\n",
      "\\item Gauge and Global Symmetries at High Temperature, Weinberg, Phys.Rev.D 9 (1974), 1974, [citations: \\textbf{1490}].\n",
      "\\item Unified theories of elementary particle interaction, Weinberg, Sci.Am. 231N1 (1974), 1974, [citations: 10].\n",
      "\\item Recent progress in gauge theories of the weak, electromagnetic and strong interactions, Weinberg, Rev.Mod.Phys. 46 (1974), 1973, [citations: \\textbf{290}].\n",
      "\\item Current algebra and gauge theories. 2. NonAbelian gluons, Weinberg, Phys.Rev.D 8 (1973), 1973, [citations: \\textbf{261}].\n",
      "\\item Current algebra and gauge theories. 1., Weinberg, Phys.Rev.D 8 (1973), 1973, [citations: \\textbf{152}].\n",
      "\\item New approach to the renormalization group, Weinberg, Phys.Rev.D 8 (1973), 1973, [citations: \\textbf{753}].\n",
      "\\item Perturbative Calculations of Symmetry Breaking, Weinberg, Phys.Rev.D 7 (1973), 1973, [citations: \\textbf{560}].\n",
      "\\item Nonabelian Gauge Theories of the Strong Interactions, Weinberg, Phys.Rev.Lett. 31 (1973), 1973, [citations: \\textbf{1045}].\n",
      "\\item General Theory of Broken Local Symmetries, Weinberg, Phys.Rev.D 7 (1973), 1973, [citations: \\textbf{192}].\n",
      "\\item Where we are now, Weinberg, Science 180 (1973), 1973.\n",
      "\\item Theory of Weak and Electromagnetic Interactions, Weinberg, Stud.Nat.Sci. 3 (1973), 1973.\n",
      "\\item Approximate symmetries and pseudoGoldstone bosons, Weinberg, Phys.Rev.Lett. 29 (1972), 1972, [citations: \\textbf{273}].\n",
      "\\item Electromagnetic and weak masses, Weinberg, Phys.Rev.Lett. 29 (1972), 1972, [citations: \\textbf{321}].\n",
      "\\item Effects of a neutral intermediate boson in semileptonic processes, Weinberg, Phys.Rev.D 5 (1972), 1972, [citations: \\textbf{804}].\n",
      "\\item Weak interaction corrections to the muon magnetic moment and to muonic atom energy levels, Jackiw, Weinberg, Phys.Rev.D 5 (1972), 1972, [citations: \\textbf{265}].\n",
      "\\item Multiparticle sum rules, Weinberg, Phys.Rev.D 5 (1972), 1972, [citations: 1].\n",
      "\\item Mixing angle in renormalizable theories of weak and electromagnetic interactions, Weinberg, Phys.Rev.D 5 (1972), 1971, [citations: \\textbf{239}].\n",
      "\\item Physical Processes in a Convergent Theory of the Weak and Electromagnetic Interactions, Weinberg, Phys.Rev.Lett. 27 (1971), 1971, [citations: \\textbf{729}].\n",
      "\\item Chiral loops, Gerstein, Jackiw, Lee, Phys.Rev.D 3 (1971), 1971, [citations: \\textbf{158}].\n",
      "\\item Entropy generation and the survival of protogalaxies in an expanding universe, Weinberg, Astrophys.J. 168 (1971) 175, 1971, [citations: \\textbf{512}].\n",
      "\\item Summing soft pions. ii. statistical approach to unitarity damping, Weinberg, Phys.Rev.D 4 (1971), 1971, [citations: 2].\n",
      "\\item Exponentiation and sum rules, Weinberg, Phys.Lett.B 37 (1971), 1971, [citations: 8].\n",
      "\\item Current Problems in Cosmology, Weinberg, AIP Conf.Proc. 2 (1971), 1971.\n",
      "\\item Ultimate temperature and the early universe, Huang, Weinberg, Phys.Rev.Lett. 25 (1970), 1970, [citations: \\textbf{314}].\n",
      "\\item Summing soft pions, Weinberg, Phys.Rev.D 2 (1970), 1970, [citations: \\textbf{35}].\n",
      "\\item Reply to On summing soft pions, Weinberg, Phys.Rev.D 2 (1970) 3085, 1970, [citations: 4].\n",
      "\\item Feynman rules for any spin. iii, Weinberg, Phys.Rev. 181 (1969), 1969, [citations: \\textbf{107}].\n",
      "\\item Algebraic realizations of chiral symmetry, Weinberg, Phys.Rev. 177 (1969), 1969, [citations: \\textbf{241}].\n",
      "\\item Algebraic structure of superconvergence relations, Weinberg, Phys.Rev.Lett. 22 (1969), 1969, [citations: \\textbf{29}].\n",
      "\\item Quantization conditions for regge intercepts and hadron masses, Ademollo, Veneziano, Weinberg, Phys.Rev.Lett. 22 (1969), 1969, [citations: \\textbf{143}].\n",
      "\\item New links between regge-pole theory and current algebra, Weinberg, Comments Nucl.Part.Phys. 3 (1969) 1, 1969, [citations: 4].\n",
      "\\item Nonlinear realizations of chiral symmetry, Weinberg, Phys.Rev. 166 (1968), 1968, [citations: \\textbf{1238}].\n",
      "\\item Structure of three-point functions from su(3) x su(3) algebra, Gerstein, Weinberg, Schnitzer, Phys.Rev. 175 (1968), 1968, [citations: \\textbf{42}].\n",
      "\\item Current Algebra 1966-1968, Weinberg, Comments Nucl.Part.Phys. 2 (1968) supp, 1968.\n",
      "\\item Current-Algebra Calculation of Hard-Pion Processes: A-1 --> rho+pi and rho --> pi+pi, Schnitzer, Weinberg, Phys.Rev. 164 (1967), 1967, [citations: \\textbf{268}].\n",
      "\\item A Model of Leptons, Weinberg, Phys.Rev.Lett. 19 (1967), 1967, [citations: \\textbf{13659}].\n",
      "\\item Breaking chiral symmetry, Glashow, Weinberg, Phys.Rev.Lett. 20 (1968), 1967, [citations: \\textbf{575}].\n",
      "\\item Convergent Calculation of Nonleptonic K Decay in the Intermediate-Boson Model, Glashow, Schnitzer, Weinberg, Phys.Rev.Lett. 19 (1967), 1967, [citations: \\textbf{28}].\n",
      "\\item Algebra of Fields, Lee, Weinberg, Zumino, Phys.Rev.Lett. 18 (1967), 1967, [citations: \\textbf{243}].\n",
      "\\item Precise relations between the spectra of vector and axial vector mesons, Weinberg, Phys.Rev.Lett. 18 (1967), 1967, [citations: \\textbf{1308}].\n",
      "\\item Sum Rules for the Spectral Functions of SU(3) X SU(3), Glashow, Schnitzer, Weinberg, Phys.Rev.Lett. 19 (1967) 139, 1967, [citations: \\textbf{92}].\n",
      "\\item Dynamical approach to current algebra, Weinberg, Phys.Rev.Lett. 18 (1967), 1966, [citations: \\textbf{717}].\n",
      "\\item Current Commutator Calculation of the $K_{\\ell 4}$ form Factors, Weinberg, Phys.Rev.Lett. 17 (1966), 1966, [citations: \\textbf{162}].\n",
      "\\item Dynamics at infinite momentum, Weinberg, Phys.Rev. 150 (1966), 1966, [citations: \\textbf{614}].\n",
      "\\item Pion scattering lengths, Weinberg, Phys.Rev.Lett. 17 (1966), 1966, [citations: \\textbf{1776}].\n",
      "\\item Current-Commutator Theory of Multiple Pion Production, Weinberg, Phys.Rev.Lett. 16 (1966) 19, 1966, [citations: \\textbf{98}].\n",
      "\\item Infrared photons and gravitons, Weinberg, Phys.Rev. 140 (1965), 1965, [citations: \\textbf{918}].\n",
      "\\item Evidence That the Deuteron Is Not an Elementary Particle, Weinberg, Phys.Rev. 137 (1965), 1965, [citations: \\textbf{339}].\n",
      "\\item Photons and gravitons in perturbation theory: Derivation of Maxwell's and Einstein's equations, Weinberg, Phys.Rev. 138 (1965), 1965, [citations: \\textbf{423}].\n",
      "\\item Do Hyperphotons Exist?, Weinberg, Phys.Rev.Lett. 13 (1964), 1964, [citations: \\textbf{42}].\n",
      "\\item Photons and Gravitons in $S$-Matrix Theory: Derivation of Charge Conservation and Equality of Gravitational and Inertial Mass, Weinberg, Phys.Rev. 135 (1964), 1964, [citations: \\textbf{585}].\n",
      "\\item Derivation of gauge invariance and the equivalence principle from Lorentz invariance of the S- matrix, Weinberg, Phys.Lett. 9 (1964) 4, 1964, [citations: \\textbf{79}].\n",
      "\\item Systematic Solution of Multiparticle Scattering Problems, Weinberg, Phys.Rev. 133 (1964), 1964, [citations: \\textbf{182}].\n",
      "\\item Feynman Rules for Any Spin, Weinberg, Phys.Rev. 133 (1964), 1964, [citations: \\textbf{450}].\n",
      "\\item Feynman Rules for Any Spin. 2. Massless Particles, Weinberg, Phys.Rev. 134 (1964), 1964, [citations: \\textbf{295}].\n",
      "\\item Quasiparticles and the Born Series, Weinberg, Phys.Rev. 131 (1963), 1963, [citations: \\textbf{338}].\n",
      "\\item Elementary particle theory of composite particles, Weinberg, Phys.Rev. 130 (1963), 1962, [citations: \\textbf{574}].\n",
      "\\item Universal Neutrino Degeneracy, Weinberg, Phys.Rev. 128 (1962), 1962, [citations: \\textbf{171}].\n",
      "\\item Broken Symmetries, Goldstone, Salam, Weinberg, Phys.Rev. 127 (1962), 1962, [citations: \\textbf{2216}].\n",
      "\\item Cross Sections at High Energies, Weinberg, Phys.Rev. 124 (1961), 1961, [citations: \\textbf{22}].\n",
      "\\item Conversion of Muonium into Antimuonium, Feinberg, Weinberg, Phys.Rev. 123 (1961), 1961, [citations: \\textbf{124}].\n",
      "\\item Law of Conservation of Muons, Feinberg, Weinberg, Phys.Rev.Lett. 6 (1961), 1961, [citations: \\textbf{137}].\n",
      "\\item Muon Absorption in Liquid Hydrogen, Weinberg, Phys.Rev.Lett. 4 (1960), 1960, [citations: \\textbf{39}].\n",
      "\\item New Test for DeltaI=12 in K+ Decay, Weinberg, Phys.Rev.Lett. 4 (1960), 1960, [citations: \\textbf{72}].\n",
      "\\item Electromagnetic Corrections to Isotopic Spin Conservation, Weinberg, Treiman, Phys.Rev. 116 (1959), 1959, [citations: \\textbf{66}].\n",
      "\\item Transformation of muons into electrons, Feinberg, Kabir, Weinberg, Phys.Rev.Lett. 3 (1959), 1959, [citations: \\textbf{114}].\n",
      "\\item Interference Effects in Neutral K-Particle Decay, Treiman, Weinberg, Phys.Rev. 116 (1959), 1959, [citations: 5].\n",
      "\\item Interference Effects in Leptonic Decays, Weinberg, Phys.Rev. 115 (1959), 1959, [citations: \\textbf{22}].\n",
      "\\item Electromagnetic Transitions Between mu Meson and Electron, Weinberg, Feinberg, Phys.Rev.Lett. 3 (1959), 1959, [citations: \\textbf{115}].\n",
      "\\item High-energy behavior in quantum field theory, Weinberg, Phys.Rev. 118 (1960), 1959, [citations: \\textbf{486}].\n",
      "\\item Interaction Current in Strangeness-Violating Decays, Okubo, Marshak, Weinberg, Phys.Rev. 112 (1958), 1958, [citations: \\textbf{22}].\n",
      "\\item Charge symmetry of weak interactions, Weinberg, Phys.Rev. 112 (1958), 1958, [citations: \\textbf{553}].\n",
      "\\item Time-Reversal Invariance and theta20 Decay, Weinberg, Phys.Rev. 110 (1958), 1958, [citations: \\textbf{20}].\n",
      "\\item Divergenceless currents and K-meson decay, Marshak, Okubo, Weinberg, Phys.Rev.Lett. 1 (1958) 25, 1958, [citations: 5].\n",
      "\\item Role of Strong Interactions in Decay Processes, Weinberg, Phys.Rev. 106 (1957), 1957, [citations: \\textbf{17}].\n",
      "\\item N-V Potential in the Lee Model, Weinberg, Phys.Rev. 102 (1956), 1956, [citations: \\textbf{11}].\n",
      "\\end{enumerate}\n",
      "\\textbf{Under review or non-peer reviewed publications}\n",
      "\\begin{enumerate} \n",
      "\\item Foundations of Modern Physics, Weinberg, 2021.\n",
      "\\item Joseph Polchinski: A Biographical Memoir, Bousso, Quevedo, Weinberg, preprint, 2020, arXiv:2002.02371 [physics.hist-ph].\n",
      "\\item Particle Physics, from Rutherford to the LHC, Weinberg, 2013.\n",
      "\\item Beautiful theories, Weinberg, proceedings, 2012.\n",
      "\\item NOvA Near Detector On the Surface (NDOS), Lucas, Childress, Jackson, preprint, 2011.\n",
      "\\item Changing views of symmetry, Weinberg, proceedings, 2009.\n",
      "\\item Living with Infinities, Weinberg, proceedings, 2009, arXiv:0903.0568 [hep-th], [citations: \\textbf{76}].\n",
      "\\item Cosmology, Weinberg, 2008, [citations: \\textbf{508}].\n",
      "\\item From BCS to the LHC, Weinberg, preprint, 2008.\n",
      "\\item Living in the multiverse, Weinberg, proceedings, 2005, arXiv:hep-th/0511037 [hep-th], [citations: \\textbf{84}].\n",
      "\\item The Cosmological constant problems, Weinberg, proceedings, 2000, arXiv:astro-ph/0005265 [astro-ph], [citations: \\textbf{443}].\n",
      "\\item The quantum theory of fields. Vol. 3: Supersymmetry, Weinberg, 2000, [citations: \\textbf{89}].\n",
      "\\item Unified theory of the electroweak interaction. (In German), Weinberg, preprint, 1997.\n",
      "\\item Theories of the cosmological constant, Weinberg, proceedings, 1996, arXiv:astro-ph/9610044 [astro-ph], [citations: \\textbf{86}].\n",
      "\\item What is quantum field theory, and what did we think it is?, Weinberg, proceedings, 1996, arXiv:hep-th/9702027 [hep-th], [citations: \\textbf{235}].\n",
      "\\item Nature itself, Weinberg, preprint, 1996.\n",
      "\\item The quantum theory of fields. Vol. 2: Modern applications, Weinberg, 1996, [citations: \\textbf{262}].\n",
      "\\item The Quantum theory of fields. Vol. 1: Foundations, Weinberg, 1995, [citations: \\textbf{363}].\n",
      "\\item Strong interactions at low-energies, Weinberg, proceedings, 1994, arXiv:hep-ph/9412326 [hep-ph], [citations: \\textbf{34}].\n",
      "\\item Dreams of a final theory. (In German), Weinberg, 1993.\n",
      "\\item Changing attitudes and the standard model, Weinberg, proceedings, 1992.\n",
      "\\item Dreams of a final theory: The Search for the fundamental laws of nature, Weinberg, 1992, [citations: 8].\n",
      "\\item Using quark and lepton masses to guess the scalar spectrum, Weinberg, proceedings, 1991.\n",
      "\\item Beyond the standard models, Weinberg, preprint, 1991.\n",
      "\\item Quantum cosmology and baby universes. Proceedings, 7th Winter School for Theoretical Physics, Jerusalem, Israel, December 27, 1989 - January 4, 1990, Coleman, Hartle, Weinberg, proceedings, 1991, [citations: 1].\n",
      "\\item Two-Dimensional Quantum Gravity and Random Surfaces. Proceedings, 8th Winter School for Theoretical Physics, Jerusalem, Israel, December 27, 1990 - January 4, 1991, Gross, Piran, Weinberg, proceedings, 1991, [citations: 2].\n",
      "\\item Supernovae. Proceedings, 6th Winter School for Theoretical Physics, Jerusalem, Israel, December 28, 1988 - January 5, 1989, Wheeler, Piran, Weinberg, proceedings, 1990.\n",
      "\\item STATISTICAL MECHANICS OF MEMBRANES AND SURFACES, Nelson, Piran, Weinberg, proceedings, 1989.\n",
      "\\item TOWARDS THE FINAL LAWS OF PHYSICS, Weinberg, preprint, 1988.\n",
      "\\item STRINGS AND SUPERSTRINGS. VOL. 3. PROCEEDINGS, WINTER SCHOOL FOR THEORETICAL PHYSICS, JERUSALEM, ISRAEL, DECEMBER 20, 1985 - JANUARY 9, 1986, Piran, Weinberg, proceedings, 1988.\n",
      "\\item AN ALTERNATIVE TO GENERAL RELATIVITY, Weinberg, preprint, 1987.\n",
      "\\item NEWTONIANISM AND TODAY'S PHYSICS, Weinberg, preprint, 1987.\n",
      "\\item ELEMENTARY PARTICLES AND THE LAWS OF PHYSICS. THE 1986 DIRAC MEMORIAL LECTURES, Feynman, Weinberg, 1987, [citations: 3].\n",
      "\\item DARK MATTER IN THE UNIVERSE. PROCEEDINGS, 4TH JERUSALEM WINTER SCHOOL FOR THEORETICAL PHYSICS, JERUSALEM, ISRAEL, DECEMBER 30, 1986 - JANUARY 8, 1987, Bahcall, Piran, Weinberg, proceedings, 1987.\n",
      "\\item COVARIANT PATH INTEGRAL APPROACH TO STRING THEORY, Weinberg, proceedings, 1986, [citations: 1].\n",
      "\\item PHYSICS IN HIGHER DIMENSIONS. PROCEEDINGS, 2ND JERUSALEM WINTER SCHOOL FOR THEORETICAL PHYSICS, JERUSALEM, ISRAEL, DECEMBER 27, 1984 - JANUARY 4, 1985, Piran, Weinberg, proceedings, 1986.\n",
      "\\item RADIATIVE CORRECTIONS IN STRING THEORIES, Weinberg, proceedings, 1985, [citations: 2].\n",
      "\\item STRINGS WITH NO STRINGS, Weinberg, proceedings, 1985.\n",
      "\\item PARTICLES, FIELDS, AND NOW STRINGS, Weinberg, proceedings, 1985.\n",
      "\\item QUANTUM FIELD THEORY AND THE FUNDAMENTAL PROBLEMS OF PHYSICS. PROCEEDINGS, CONFERENCE, SHELTER ISLAND, USA, JUNE 1-3, 1983, Jackiw, Khuri, Witten, proceedings, 1985, [citations: 1].\n",
      "\\item GENERALIZED THEORIES OF GRAVITY AND SUPERGRAVITY IN HIGHER DIMENSIONS, Weinberg, proceedings, 1984, [citations: 2].\n",
      "\\item THE DISCOVERY OF SUBATOMIC PARTICLES, Weinberg, 1984, [citations: 2].\n",
      "\\item THE DISCOVERY OF SUBATOMIC PARTICLES. (IN GERMAN), Weinberg, 1984.\n",
      "\\item THE ULTIMATE STRUCTURE OF MATTER, Weinberg, proceedings, 1984.\n",
      "\\item PHYSICS IN HIGHER DIMENSIONS, Weinberg, proceedings, 1984.\n",
      "\\item INTERSECTION BETWEEN ELEMENTARY PARTICLE PHYSICS AND COSMOLOGY, Piran, Weinberg, proceedings, 1983.\n",
      "\\item CONFERENCE SUMMARY, Weinberg, proceedings, 1981.\n",
      "\\item THE ULTIMATE STRUCTURE OF MATTER, Weinberg, preprint, 1981.\n",
      "\\item WHY THE RENORMALIZATION GROUP IS A GOOD THING, Weinberg, preprint, 1981, [citations: 1].\n",
      "\\item Expectations for Baryon and Lepton Nonconservation, Weinberg, proceedings, 1980.\n",
      "\\item ULTRAVIOLET DIVERGENCES IN QUANTUM THEORIES OF GRAVITATION, Weinberg, 1980, [citations: \\textbf{38}].\n",
      "\\item GRAND UNIFICATION, Weinberg, proceedings, 1979.\n",
      "\\item Weak Interactions, Weinberg, proceedings, 1978, [citations: 2].\n",
      "\\item Opening Address-Neutrinos '78, Weinberg, proceedings, 1978.\n",
      "\\item Gauge Theories of Weak, Electromagnetic and Strong Interactions, Weinberg, proceedings, 1977, [citations: 1].\n",
      "\\item The First Three Minutes. A Modern View of the Origin of the Universe, Weinberg, 1977, [citations: \\textbf{27}].\n",
      "\\item Conference Summary, Weinberg, proceedings, 1977.\n",
      "\\item Critical Phenomena for Field Theorists, Weinberg, proceedings, 1976, [citations: \\textbf{39}].\n",
      "\\item Apparent Luminosities in a Locally Inhomogeneous Universe, Weinberg, preprint, 1976.\n",
      "\\item Is Nature Simple?, Weinberg, proceedings, 1976.\n",
      "\\item Problems in Gauge Field Theories, Weinberg, proceedings, 1974, [citations: 1].\n",
      "\\item VIEWS ON BROKEN SYMMETRY. (TALK), Weinberg, proceedings, 1973.\n",
      "\\item Gravitation and Cosmology, Weinberg, 1972, [citations: \\textbf{218}].\n",
      "\\item DIRECT DETERMINATION OF THE METRIC FROM OBSERVED RED SHIFTS AND DISTANCES, Weinberg, preprint, 1970.\n",
      "\\item Dynamic and Algebraic Symmetries, Weinberg, proceedings, 1970.\n",
      "\\item COSMIC BLACK BODY GRAVITATIONAL RADIATION, Weinberg, preprint, 1968.\n",
      "\\item Current algebra, Weinberg, proceedings, 1968.\n",
      "\\item ON THE DERIVATION OF INTRINSIC SYMMETRIES, Weinberg, preprint, 1963.\n",
      "\\item The non-field theory of non-elementary particles, Weinberg, proceedings, 1962.\n",
      "\\end{enumerate}\n"
     ]
    }
   ],
   "source": [
    "print(SW.nice_publication_list(latex_itemize=True, split_peer_review=True))"
   ]
  },
  {
   "cell_type": "code",
   "execution_count": null,
   "metadata": {},
   "outputs": [],
   "source": []
  }
 ],
 "metadata": {
  "kernelspec": {
   "display_name": "Python 3.9.12 ('base')",
   "language": "python",
   "name": "python3"
  },
  "language_info": {
   "codemirror_mode": {
    "name": "ipython",
    "version": 3
   },
   "file_extension": ".py",
   "mimetype": "text/x-python",
   "name": "python",
   "nbconvert_exporter": "python",
   "pygments_lexer": "ipython3",
   "version": "3.9.12"
  },
  "orig_nbformat": 4,
  "vscode": {
   "interpreter": {
    "hash": "3067ead486e059ec00ffe7555bdb889e6e264a24dc711bf108106cc7baee8d5d"
   }
  }
 },
 "nbformat": 4,
 "nbformat_minor": 2
}
