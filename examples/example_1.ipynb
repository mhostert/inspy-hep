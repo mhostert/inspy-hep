{
 "cells": [
  {
   "cell_type": "code",
   "execution_count": 77,
   "metadata": {},
   "outputs": [
    {
     "name": "stdout",
     "output_type": "stream",
     "text": [
      "The autoreload extension is already loaded. To reload it, use:\n",
      "  %reload_ext autoreload\n"
     ]
    }
   ],
   "source": [
    "%load_ext autoreload\n",
    "%autoreload 2 "
   ]
  },
  {
   "cell_type": "code",
   "execution_count": 83,
   "metadata": {},
   "outputs": [],
   "source": [
    "from pylatexenc.latexencode import unicode_to_latex"
   ]
  },
  {
   "cell_type": "code",
   "execution_count": 91,
   "metadata": {},
   "outputs": [],
   "source": [
    "import inspyhep\n",
    "from inspyhep.inspires_tools import InspiresRecord\n",
    "from inspyhep.author import Author"
   ]
  },
  {
   "cell_type": "code",
   "execution_count": 100,
   "metadata": {},
   "outputs": [],
   "source": [
    "matheus = Author('M.Hostert.1')"
   ]
  },
  {
   "cell_type": "code",
   "execution_count": 101,
   "metadata": {},
   "outputs": [
    {
     "name": "stdout",
     "output_type": "stream",
     "text": [
      "\\begin{itemize}\n",
      "\\item DarkNews: a Python-based event generator for heavy neutral lepton production in neutrino-nucleus scattering, Abdullahi, Zink, Pascoli, preprint, 2022, arXiv:2207.04137 [hep-ph].\n",
      "\\item Dipole-Coupled Neutrissimo Explanations of the MiniBooNE Excess Including Constraints from MINERvA Data, Kamp, Hostert, Uchida, preprint, 2022, arXiv:2206.07100 [hep-ph], [citations: 2].\n",
      "\\item A New Way To Seek Out Dark Neutrino Sectors And To Boldly Explore Multi-Dimensional Parameter Spaces, Argüelles, Foppiani, Hostert, preprint, 2022, arXiv:2205.12273 [hep-ph].\n",
      "\\item Dark sectors in neutron-shining-through-a-wall and nuclear absorption signals, Hostert, McKeen, Raj, preprint, 2022, arXiv:2201.02603 [hep-ph], [citations: 5].\n",
      "\\item MicroBooNE and the νe Interpretation of the MiniBooNE Low-Energy Excess, Argüelles, Esteban, Perez-Gonzalez, Phys.Rev.Lett. 128 (2022) 24 241802, 2022, arXiv:2111.10359 [hep-ph], [citations: \\textbf{32}].\n",
      "\\item Heavy neutral leptons below the kaon mass at hodoscopic neutrino detectors, Argüelles, Foppiani, Hostert, Phys.Rev.D 105 (2022) 9 095006, 2022, arXiv:2109.03831 [hep-ph], [citations: \\textbf{14}].\n",
      "\\item Novel multilepton signatures of dark sectors in light meson decays, Hostert, Pospelov, Phys.Rev.D 105 (2022) 1 015017, 2022, arXiv:2012.02142 [hep-ph], [citations: 9].\n",
      "\\item Constraints on decaying sterile neutrinos from solar antineutrinos, Hostert, Pospelov, Phys.Rev.D 104 (2021) 5 055031, 2021, arXiv:2008.11851 [hep-ph], [citations: \\textbf{13}].\n",
      "\\item A dark seesaw solution to low energy anomalies: MiniBooNE, the muon (g − 2), and BaBar, Abdullahi, Hostert, Pascoli, Phys.Lett.B 820 (2021) 136531, 2021, arXiv:2007.11813 [hep-ph], [citations: \\textbf{42}].\n",
      "\\item Pair production of dark particles in meson decays, Hostert, Kaneta, Pospelov, Phys.Rev.D 102 (2020) 5 055016, 2020, arXiv:2005.07102 [hep-ph], [citations: \\textbf{13}].\n",
      "\\item Neutrino Masses from a Dark Neutrino Sector below the Electroweak Scale, Ballett, Hostert, Pascoli, Phys.Rev.D 99 (2019) 9 091701, 2019, arXiv:1903.07590 [hep-ph], [citations: \\textbf{42}].\n",
      "\\item Dark Neutrinos and a Three Portal Connection to the Standard Model, Ballett, Hostert, Pascoli, Phys.Rev.D 101 (2020) 11 115025, 2020, arXiv:1903.07589 [hep-ph], [citations: \\textbf{58}].\n",
      "\\item $Z^\\prime$s in neutrino scattering at DUNE, Ballett, Hostert, Zukanovich Funchal, Phys.Rev.D 100 (2019) 5 055012, 2019, arXiv:1902.08579 [hep-ph], [citations: \\textbf{53}].\n",
      "\\item Neutrino trident production at near detectors, Hostert, PoS NOW2018 (2019) 037, 2019, [citations: 1].\n",
      "\\item Hidden Physics at the Neutrino Frontier: Tridents, Dark Forces, and Hidden Particles, Hostert, thesis, 2019.\n",
      "\\item Testing New Physics Explanations of the MiniBooNE Anomaly at Neutrino Scattering Experiments, Argüelles, Hostert, Tsai, Phys.Rev.Lett. 123 (2019) 26 261801, 2019, arXiv:1812.08768 [hep-ph], [citations: \\textbf{60}].\n",
      "\\item Neutrino Trident Scattering at Near Detectors, Ballett, Hostert, Zukanovich Funchal, JHEP 01 (2019) 119, 2019, arXiv:1807.10973 [hep-ph], [citations: \\textbf{45}].\n",
      "\\item Light Sterile Neutrinos at $\\nu$STORM: Decoherence and CP violation, Ballett, Hostert, Pascoli, proceedings, 2017, arXiv:1705.09214 [hep-ph], [citations: 1].\n",
      "\\end{itemize}\n"
     ]
    }
   ],
   "source": [
    "print(matheus.nice_publication_list(latex_itemize=True, split_peer_review=True))"
   ]
  },
  {
   "cell_type": "code",
   "execution_count": null,
   "metadata": {},
   "outputs": [],
   "source": []
  }
 ],
 "metadata": {
  "kernelspec": {
   "display_name": "Python 3.9.12 ('base')",
   "language": "python",
   "name": "python3"
  },
  "language_info": {
   "codemirror_mode": {
    "name": "ipython",
    "version": 3
   },
   "file_extension": ".py",
   "mimetype": "text/x-python",
   "name": "python",
   "nbconvert_exporter": "python",
   "pygments_lexer": "ipython3",
   "version": "3.9.12"
  },
  "orig_nbformat": 4,
  "vscode": {
   "interpreter": {
    "hash": "3067ead486e059ec00ffe7555bdb889e6e264a24dc711bf108106cc7baee8d5d"
   }
  }
 },
 "nbformat": 4,
 "nbformat_minor": 2
}
