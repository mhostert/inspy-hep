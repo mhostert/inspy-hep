{
 "cells": [
  {
   "cell_type": "code",
   "execution_count": 1,
   "metadata": {},
   "outputs": [],
   "source": [
    "import numpy as np\n",
    "import json\n",
    "from pylatexenc.latexencode import unicode_to_latex"
   ]
  },
  {
   "cell_type": "code",
   "execution_count": 2,
   "metadata": {},
   "outputs": [],
   "source": [
    "import inspyhep\n",
    "from inspyhep.inspires_tools import InspiresRecord"
   ]
  },
  {
   "cell_type": "code",
   "execution_count": 12,
   "metadata": {},
   "outputs": [],
   "source": [
    "import requests\n",
    "class Author():\n",
    "    def __init__(self, identifier, max_papers=1000):\n",
    "        \"\"\" Author()\n",
    "\n",
    "            Parameters\n",
    "            ----------\n",
    "            identifier : str\n",
    "                the author's identifier string (e.g. 'Steven.Weinberg.1')\n",
    "            max_papers : int, optional\n",
    "                Number of papers requested from INSPIRE-HEP, by default 1000\n",
    "\n",
    "\n",
    "            Modified from\n",
    "                * https://github.com/efranzin/python \n",
    "                * https://github.com/motloch/track_inspire-hep_citations\n",
    "\n",
    "        \"\"\"\n",
    "\n",
    "        self.identifier    = identifier\n",
    "        self.max_papers    = max_papers\n",
    "        self.max_title_length = 100\n",
    "\n",
    "        # Query Inspire-HEP for author's information\n",
    "        _inspire_query = 'https://inspirehep.net/api/literature?sort=mostrecent'\n",
    "        self.author_query = f'{_inspire_query}&size={self.max_papers}&q=a%20{self.identifier}'\n",
    "\n",
    "        self.full_record = self.get_full_records_from_query(self.author_query)\n",
    "        self.full_json_records = json.loads(self.full_record)\n",
    "\n",
    "        # how many records found?\n",
    "        self.num_hits = self.full_json_records['hits']['total']\n",
    "\n",
    "        # Fill in information about author's papers from the website response\n",
    "        self.get_records_dict(self.full_json_records)\n",
    "\n",
    "        # total number of citations\n",
    "        self.citations = self.get_total_number_of_citations(self.inspires_records, )\n",
    "        self.citations_noself = self.get_total_number_of_citations(self.inspires_records, cite_self=False)\n",
    "\n",
    "\n",
    "    def get_total_number_of_citations(self, records: dict, cite_self=True) -> int:\n",
    "        \"\"\" get_total_number_of_citations\n",
    "\n",
    "        Parameters\n",
    "        ----------\n",
    "        records : dict\n",
    "            the dictionary with asll the InspiresRecord instances\n",
    "        cite_self : bool, optional\n",
    "            if True, count self citations, otherwise do not. By default True\n",
    "\n",
    "        Returns\n",
    "        -------\n",
    "        int\n",
    "            total number of citations of the author\n",
    "        \"\"\"\n",
    "        count = 0\n",
    "        for record in records.values():\n",
    "            if cite_self:\n",
    "                count += record.citation_count\n",
    "            else:\n",
    "                count += record.ins_citation_count_without_self_citations\n",
    "        return count\n",
    "\n",
    "    def get_records_dict(self, json_records) -> dict:\n",
    "        \"\"\"get_record_json get a dictionary of all inspire records for this author\n",
    "\n",
    "        Parameters\n",
    "        ----------\n",
    "        json_record : str\n",
    "            str with json output of inspires query\n",
    "\n",
    "        Returns\n",
    "        -------\n",
    "        dict\n",
    "            a dictionary with keys containing instances of the InspireRecord class,\n",
    "            accessible with inspire texkeys (e.g., dic['weinberd:2002abc'])\n",
    "        \"\"\"\n",
    "        self.inspires_records = {}\n",
    "        for record in json_records['hits']['hits']:\n",
    "            r = InspiresRecord(record['metadata'])\n",
    "            self.inspires_records[f'{r.texkey}'] = r\n",
    "        return self.inspires_records\n",
    "\n",
    "    def get_full_records_from_query(self, query) -> str:\n",
    "        \"\"\"get_full_record_from_query get the full result of the author query to Inspires\n",
    "\n",
    "        Parameters\n",
    "        ----------\n",
    "        query : str\n",
    "            url string with the author query following Inspires API\n",
    "\n",
    "        Returns\n",
    "        -------\n",
    "        str\n",
    "            full string output from the Inpires query\n",
    "        \"\"\"\n",
    "\n",
    "        # Load the full record of the author\n",
    "        response = requests.get(self.author_query)\n",
    "        if response.status_code == 200:\n",
    "            return (response.content).decode(\"utf-8\")\n",
    "        else:\n",
    "            print(f\"Could not find Inspire entry for author identified = {self.identifier}.\")\n",
    "            return None\n"
   ]
  },
  {
   "cell_type": "code",
   "execution_count": 14,
   "metadata": {},
   "outputs": [],
   "source": [
    "me = Author('M.Hostert.1')"
   ]
  },
  {
   "cell_type": "code",
   "execution_count": 17,
   "metadata": {},
   "outputs": [
    {
     "data": {
      "text/plain": [
       "1047"
      ]
     },
     "execution_count": 17,
     "metadata": {},
     "output_type": "execute_result"
    }
   ],
   "source": [
    "me.citations_noself"
   ]
  },
  {
   "cell_type": "markdown",
   "metadata": {},
   "source": [
    "# Importing data directly "
   ]
  },
  {
   "cell_type": "code",
   "execution_count": 8,
   "metadata": {},
   "outputs": [],
   "source": [
    "with open('example_inspire_record.json', 'r') as file:\n",
    "    data = json.load(file)"
   ]
  },
  {
   "cell_type": "code",
   "execution_count": 11,
   "metadata": {},
   "outputs": [
    {
     "data": {
      "text/plain": [
       "'Batell:2022xau'"
      ]
     },
     "execution_count": 11,
     "metadata": {},
     "output_type": "execute_result"
    }
   ],
   "source": [
    "data['hits']['hits'][0]['metadata']['texkeys'][0]"
   ]
  },
  {
   "cell_type": "code",
   "execution_count": 319,
   "metadata": {},
   "outputs": [],
   "source": []
  },
  {
   "cell_type": "code",
   "execution_count": 321,
   "metadata": {},
   "outputs": [
    {
     "data": {
      "text/plain": [
       "'Arg\\\\\"uelles, Foppiani, Hostert, Phys.Rev.D 105 (2022) 9 095006, 2022, arXiv:2109.03831 [hep-ph].'"
      ]
     },
     "execution_count": 321,
     "metadata": {},
     "output_type": "execute_result"
    }
   ],
   "source": [
    "rec = InspireRecord(data['hits']['hits'][14]['metadata'])\n",
    "unicode_to_latex(rec)"
   ]
  },
  {
   "cell_type": "code",
   "execution_count": 300,
   "metadata": {},
   "outputs": [
    {
     "data": {
      "text/plain": [
       "['Arg\\\\\"uelles', 'Foppiani', 'Hostert']"
      ]
     },
     "execution_count": 300,
     "metadata": {},
     "output_type": "execute_result"
    }
   ],
   "source": [
    "rec.authors_"
   ]
  },
  {
   "cell_type": "code",
   "execution_count": 262,
   "metadata": {},
   "outputs": [
    {
     "name": "stdout",
     "output_type": "stream",
     "text": [
      "dict_keys(['report_numbers', 'authors', 'publication_info', 'documents', 'citation_count', 'citation_count_without_self_citations', 'citeable', '$schema', 'keywords', 'references', 'number_of_pages', 'legacy_creation_date', 'preprint_date', 'author_count', 'public_notes', 'earliest_date', 'external_system_identifiers', 'facet_author_name', 'core', 'license', 'journal_title_variants', 'arxiv_eprints', 'referenced_authors_bais', 'figures', 'legacy_version', 'inspire_categories', 'urls', 'first_author', 'control_number', 'dois', 'document_type', 'texkeys', 'abstracts', 'primary_arxiv_category', 'titles', 'imprints', 'curated'])\n"
     ]
    }
   ],
   "source": [
    "for record in data['hits']['hits']:\n",
    "    if record['metadata']['document_type'][0] == 'proceedings':\n",
    "        print(record['metadata'].keys())\n",
    "    "
   ]
  },
  {
   "cell_type": "code",
   "execution_count": 226,
   "metadata": {},
   "outputs": [
    {
     "name": "stdout",
     "output_type": "stream",
     "text": [
      "conference paper \n",
      "\n",
      "authors <class 'list'>\n",
      "publication_info <class 'list'>\n",
      "documents <class 'list'>\n",
      "citation_count <class 'int'>\n",
      "citation_count_without_self_citations <class 'int'>\n",
      "citeable <class 'bool'>\n",
      "$schema <class 'str'>\n",
      "keywords <class 'list'>\n",
      "references <class 'list'>\n",
      "number_of_pages <class 'int'>\n",
      "referenced_authors_bais <class 'list'>\n",
      "legacy_version <class 'str'>\n",
      "inspire_categories <class 'list'>\n",
      "legacy_creation_date <class 'str'>\n",
      "author_count <class 'int'>\n",
      "urls <class 'list'>\n",
      "first_author <class 'dict'>\n",
      "control_number <class 'int'>\n",
      "dois <class 'list'>\n",
      "earliest_date <class 'str'>\n",
      "document_type <class 'list'>\n",
      "texkeys <class 'list'>\n",
      "abstracts <class 'list'>\n",
      "titles <class 'list'>\n",
      "facet_author_name <class 'list'>\n",
      "core <class 'bool'>\n",
      "license <class 'list'>\n",
      "imprints <class 'list'>\n",
      "curated <class 'bool'>\n",
      "journal_title_variants <class 'list'>\n"
     ]
    }
   ],
   "source": [
    "i=40\n",
    "print(data['hits']['hits'][i]['metadata']['document_type'][0],'\\n')\n",
    "\n",
    "for key in data['hits']['hits'][i]['metadata'].keys():\n",
    "    print(key, type(data['hits']['hits'][i]['metadata'][key]))\n",
    "        \n",
    "\n"
   ]
  },
  {
   "cell_type": "code",
   "execution_count": 75,
   "metadata": {},
   "outputs": [
    {
     "name": "stdout",
     "output_type": "stream",
     "text": [
      "C. A. Argüelles, I. Esteban, M. Hostert, Kevin J. Kelly, J. Kopp, P. A. N. Machado, I. Martinez-Soler, Y. F. Perez-Gonzalez\n",
      "Argüelles, C.A. and Esteban, I. and Hostert, M. and Kelly, Kevin J. and Kopp, J. and Machado, P.A.N. and Martinez-Soler, I. and Perez-Gonzalez, Y.F.\n"
     ]
    }
   ],
   "source": []
  }
 ],
 "metadata": {
  "kernelspec": {
   "display_name": "Python 3.9.12 ('base')",
   "language": "python",
   "name": "python3"
  },
  "language_info": {
   "codemirror_mode": {
    "name": "ipython",
    "version": 3
   },
   "file_extension": ".py",
   "mimetype": "text/x-python",
   "name": "python",
   "nbconvert_exporter": "python",
   "pygments_lexer": "ipython3",
   "version": "3.9.12"
  },
  "orig_nbformat": 4,
  "vscode": {
   "interpreter": {
    "hash": "3067ead486e059ec00ffe7555bdb889e6e264a24dc711bf108106cc7baee8d5d"
   }
  }
 },
 "nbformat": 4,
 "nbformat_minor": 2
}
